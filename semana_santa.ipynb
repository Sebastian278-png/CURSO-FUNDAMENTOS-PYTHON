{
  "nbformat": 4,
  "nbformat_minor": 0,
  "metadata": {
    "colab": {
      "provenance": [],
      "authorship_tag": "ABX9TyMmEqBZpEyCS5X23r0AhOkE",
      "include_colab_link": true
    },
    "kernelspec": {
      "name": "python3",
      "display_name": "Python 3"
    },
    "language_info": {
      "name": "python"
    }
  },
  "cells": [
    {
      "cell_type": "markdown",
      "metadata": {
        "id": "view-in-github",
        "colab_type": "text"
      },
      "source": [
        "<a href=\"https://colab.research.google.com/github/Sebastian278-png/CURSO-FUNDAMENTOS-PYTHON/blob/rama-solucion/semana_santa.ipynb\" target=\"_parent\"><img src=\"https://colab.research.google.com/assets/colab-badge.svg\" alt=\"Open In Colab\"/></a>"
      ]
    },
    {
      "cell_type": "code",
      "execution_count": 1,
      "metadata": {
        "colab": {
          "base_uri": "https://localhost:8080/"
        },
        "id": "t52e0x_KlO5s",
        "outputId": "b500c1ad-f2ea-489d-a3fc-998d04193fc5"
      },
      "outputs": [
        {
          "output_type": "stream",
          "name": "stdout",
          "text": [
            "Ingrese el primer num: 69\n",
            "Ingrese el segundo num: 765765765765765\n",
            "Ingrese el operador (+, -, *, /, **, //): *\n",
            "Resultado: 69.0 * 765765765765765.0 = 5.2837837837837784e+16\n"
          ]
        }
      ],
      "source": [
        "def calculadora():\n",
        "    try:\n",
        "        num1 = float(input(\"Ingrese el primer num: \"))\n",
        "        num2 = float(input(\"Ingrese el segundo num: \"))\n",
        "        operador = input(\"Ingrese el operador (+, -, *, /, **, //): \")\n",
        "\n",
        "        if operador == '+':\n",
        "            resultado = num1 + num2\n",
        "        elif operador == '-':\n",
        "            resultado = num1 - num2\n",
        "        elif operador == '*':\n",
        "            resultado = num1 * num2\n",
        "        elif operador == '/':\n",
        "            if num2 != 0:\n",
        "                resultado = num1 / num2\n",
        "            else:\n",
        "                print(\"no se puede dividir\")\n",
        "                return\n",
        "        elif operador == '**':\n",
        "            resultado = num1 ** num2\n",
        "        elif operador == '//':\n",
        "            if num2 != 0:\n",
        "                resultado = num1 // num2\n",
        "            else:\n",
        "                print(\"no se puede dividir\")\n",
        "                return\n",
        "        else:\n",
        "            print(\"no valido\")\n",
        "            return\n",
        "\n",
        "        print(f\"Resultado: {num1} {operador} {num2} = {resultado}\")\n",
        "\n",
        "    except ValueError:\n",
        "        print(\"ingrese numeros correctos\")\n",
        "calculadora()"
      ]
    },
    {
      "cell_type": "code",
      "source": [
        "def mostrar_inventario(inventario):\n",
        "    print(\"Inventario actual:\")\n",
        "    for producto, cantidad in inventario.items():\n",
        "        print(f\"- {producto}: {cantidad} unidades\")\n",
        "    print()\n",
        "\n",
        "def agregar_producto(inventario, producto, cantidad):\n",
        "    inventario[producto] = cantidad\n",
        "    print(f\"Producto '{producto}' agregado con {cantidad} unidades.\")\n",
        "\n",
        "def actualizar_producto(inventario, producto, cantidad):\n",
        "    if producto in inventario:\n",
        "        inventario[producto] = cantidad\n",
        "        print(f\"producto de '{producto}' actualizado a {cantidad} unidades.\")\n",
        "    else:\n",
        "        print(f\"El producto '{producto}' no existe en el inventario.\")\n",
        "\n",
        "def eliminar_producto(inventario, producto):\n",
        "    if producto in inventario:\n",
        "        del inventario[producto]\n",
        "        print(f\"Producto '{producto}' eliminado.\")\n",
        "    else:\n",
        "        print(f\"El producto '{producto}' no existe en el inventario.\")\n",
        "\n",
        "inventario = {'manzanas': 50, 'naranjas': 30, 'peras': 20}\n",
        "mostrar_inventario(inventario)\n",
        "\n",
        "actualizar_producto(inventario, 'peras', 2500000)\n",
        "agregar_producto(inventario, 'bananas', 40)\n",
        "eliminar_producto(inventario, 'naranjas')\n",
        "\n",
        "mostrar_inventario(inventario)"
      ],
      "metadata": {
        "colab": {
          "base_uri": "https://localhost:8080/"
        },
        "id": "-mXvimHAlfSD",
        "outputId": "c330fe9a-3e70-48cc-be21-7e1686c9350b"
      },
      "execution_count": 2,
      "outputs": [
        {
          "output_type": "stream",
          "name": "stdout",
          "text": [
            "Inventario actual:\n",
            "- manzanas: 50 unidades\n",
            "- naranjas: 30 unidades\n",
            "- peras: 20 unidades\n",
            "\n",
            "producto de 'peras' actualizado a 2500000 unidades.\n",
            "Producto 'bananas' agregado con 40 unidades.\n",
            "Producto 'naranjas' eliminado.\n",
            "Inventario actual:\n",
            "- manzanas: 50 unidades\n",
            "- peras: 2500000 unidades\n",
            "- bananas: 40 unidades\n",
            "\n"
          ]
        }
      ]
    },
    {
      "cell_type": "code",
      "source": [
        "import re\n",
        "\n",
        "def analizar_texto(texto):\n",
        "    try:\n",
        "        if not texto:\n",
        "            raise ValueError(\"El texto no puede estar vacío.\")\n",
        "\n",
        "        texto = texto.lower()\n",
        "        palabras = re.findall(r'\\b\\w+\\b', texto)\n",
        "\n",
        "        frecuencia = {}\n",
        "        for palabra in palabras:\n",
        "            if palabra in frecuencia:\n",
        "                frecuencia[palabra] += 1\n",
        "            else:\n",
        "                frecuencia[palabra] = 1\n",
        "\n",
        "        print(\"Frecuencia de palabras:\")\n",
        "        for palabra, cantidad in frecuencia.items():\n",
        "            print(f\"{palabra}: {cantidad}\")\n",
        "\n",
        "    except ValueError as e:\n",
        "        print(\"Error:\", e)\n",
        "    except Exception as e:\n",
        "        print(\"Error inesperado:\", e)\n",
        "\n",
        "texto = input(\"Ingrese un texto: \")\n",
        "analizar_texto(texto)"
      ],
      "metadata": {
        "colab": {
          "base_uri": "https://localhost:8080/"
        },
        "id": "SlA4vJtrlloa",
        "outputId": "00f15c3f-455f-4d23-bb8d-d4394d0a5f30"
      },
      "execution_count": 4,
      "outputs": [
        {
          "output_type": "stream",
          "name": "stdout",
          "text": [
            "Ingrese un texto: askjhdkjsahdsadhsakjdh csahdkjahdakjsdhsakjhd ajshkjahsakjhsakjsah ajskhkjsahsakjhsakj \n",
            "Frecuencia de palabras:\n",
            "askjhdkjsahdsadhsakjdh: 1\n",
            "csahdkjahdakjsdhsakjhd: 1\n",
            "ajshkjahsakjhsakjsah: 1\n",
            "ajskhkjsahsakjhsakj: 1\n"
          ]
        }
      ]
    },
    {
      "cell_type": "code",
      "source": [
        "def cm_a_pulgadas(cm):\n",
        "    return cm / 2.54\n",
        "\n",
        "def km_a_millas(km):\n",
        "    return km * 0.621371\n",
        "\n",
        "def convertir_unidades():\n",
        "    try:\n",
        "        print(\"Seleccione la conversión:\")\n",
        "        print(\"1. Centímetros a pulgadas\")\n",
        "        print(\"2. Kilómetros a millas\")\n",
        "\n",
        "        opcion = int(input(\"Opción: \"))\n",
        "\n",
        "        if opcion == 1:\n",
        "            cm = float(input(\"Ingrese la cantidad en centímetros: \"))\n",
        "            resultado = cm_a_pulgadas(cm)\n",
        "            print(f\"{cm} cm = {resultado:.2f} pulgadas\")\n",
        "\n",
        "        elif opcion == 2:\n",
        "            km = float(input(\"Ingrese la cantidad en kilómetros: \"))\n",
        "            resultado = km_a_millas(km)\n",
        "            print(f\"{km} km = {resultado:.2f} millas\")\n",
        "\n",
        "        else:\n",
        "            print(\"Opción no válida.\")\n",
        "\n",
        "    except ValueError:\n",
        "        print(\"Error\")\n",
        "\n",
        "convertir_unidades()\n",
        "def cm_a_pulgadas(cm):\n",
        "    return cm / 2.54\n",
        "\n",
        "def km_a_millas(km):\n",
        "    return km * 0.621371\n",
        "\n",
        "def convertir_unidades():\n",
        "    try:\n",
        "        print(\"Seleccione la conversión:\")\n",
        "        print(\"1. Centímetros a pulgadas\")\n",
        "        print(\"2. Kilómetros a millas\")\n",
        "\n",
        "        opcion = int(input(\"Opción: \"))\n",
        "\n",
        "        if opcion == 1:\n",
        "            cm = float(input(\"Ingrese la cantidad en centímetros: \"))\n",
        "            resultado = cm_a_pulgadas(cm)\n",
        "            print(f\"{cm} cm = {resultado:.2f} pulgadas\")\n",
        "\n",
        "        elif opcion == 2:\n",
        "            km = float(input(\"Ingrese la cantidad en kilómetros: \"))\n",
        "            resultado = km_a_millas(km)\n",
        "            print(f\"{km} km = {resultado:.2f} millas\")\n",
        "\n",
        "        else:\n",
        "            print(\"error\")\n",
        "\n",
        "    except ValueError:\n",
        "        print(\"opcion invalida\")\n",
        "\n",
        "convertir_unidades()"
      ],
      "metadata": {
        "colab": {
          "base_uri": "https://localhost:8080/"
        },
        "id": "IU3zuM9UlvjC",
        "outputId": "acb1352a-1ac6-4a71-8d5e-ced93828b4f5"
      },
      "execution_count": 5,
      "outputs": [
        {
          "output_type": "stream",
          "name": "stdout",
          "text": [
            "Seleccione la conversión:\n",
            "1. Centímetros a pulgadas\n",
            "2. Kilómetros a millas\n",
            "Opción: 1\n",
            "Ingrese la cantidad en centímetros: 18\n",
            "18.0 cm = 7.09 pulgadas\n",
            "Seleccione la conversión:\n",
            "1. Centímetros a pulgadas\n",
            "2. Kilómetros a millas\n",
            "Opción: 2\n",
            "Ingrese la cantidad en kilómetros: 200\n",
            "200.0 km = 124.27 millas\n"
          ]
        }
      ]
    },
    {
      "cell_type": "code",
      "source": [
        "import random\n",
        "\n",
        "def adivina_el_numero():\n",
        "    numero_secreto = random.randint(1, 50)\n",
        "    intento = 1\n",
        "\n",
        "    print(\"Bienvenido al juego Adivina el Número\")\n",
        "    print(\"Estoy pensando en un número entre 1 y 50\")\n",
        "\n",
        "    while True:\n",
        "        try:\n",
        "            numero_usuario = int(input(f\"Intento {intento} - Ingresa tu número: \"))\n",
        "\n",
        "            if numero_usuario < numero_secreto:\n",
        "                print(\"El número secreto es mayor\")\n",
        "            elif numero_usuario > numero_secreto:\n",
        "                print(\"El número secreto es menor\")\n",
        "            else:\n",
        "                print(f\"¡Felicidades! : {numero_secreto}\")\n",
        "                break\n",
        "\n",
        "            intento += 1\n",
        "\n",
        "        except ValueError:\n",
        "            print(\"¡Error!\")\n",
        "\n",
        "adivina_el_numero()"
      ],
      "metadata": {
        "colab": {
          "base_uri": "https://localhost:8080/"
        },
        "id": "aRdPqc0_l9Lq",
        "outputId": "a57563e0-54dd-4385-a991-84f7c273e951"
      },
      "execution_count": 6,
      "outputs": [
        {
          "output_type": "stream",
          "name": "stdout",
          "text": [
            "Bienvenido al juego Adivina el Número\n",
            "Estoy pensando en un número entre 1 y 50\n",
            "Intento 1 - Ingresa tu número: 5\n",
            "El número secreto es mayor\n",
            "Intento 2 - Ingresa tu número: 6\n",
            "El número secreto es mayor\n",
            "Intento 3 - Ingresa tu número: 2\n",
            "El número secreto es mayor\n",
            "Intento 4 - Ingresa tu número: 7\n",
            "¡Felicidades! : 7\n"
          ]
        }
      ]
    },
    {
      "cell_type": "code",
      "source": [
        "def calcular_factorial():\n",
        "    try:\n",
        "        numero = int(input(\"Ingrese un número entero para calcular su factorial: \"))\n",
        "\n",
        "        if numero < 0:\n",
        "            print(\"El número no puede ser negativo.\")\n",
        "            return\n",
        "\n",
        "        factorial = 1\n",
        "        for i in range(1, numero + 1):\n",
        "            factorial *= i\n",
        "\n",
        "        print(f\"El factorial de {numero} es {factorial}\")\n",
        "\n",
        "    except ValueError:\n",
        "        print(\"Debes ingresar un número entero válido\")\n",
        "\n",
        "calcular_factorial()"
      ],
      "metadata": {
        "colab": {
          "base_uri": "https://localhost:8080/"
        },
        "id": "zDLzs05TmG6Z",
        "outputId": "ee0818ff-857a-456e-cf5f-30b7b1a32d59"
      },
      "execution_count": 7,
      "outputs": [
        {
          "output_type": "stream",
          "name": "stdout",
          "text": [
            "Ingrese un número entero para calcular su factorial: 6\n",
            "El factorial de 6 es 720\n"
          ]
        }
      ]
    },
    {
      "cell_type": "code",
      "source": [
        "from datetime import datetime\n",
        "\n",
        "def calcular_dias_faltantes():\n",
        "    try:\n",
        "        fecha_str = input(\"Ingrese una fecha (DD/MM/AAAA): \")\n",
        "        fecha_ingresada = datetime.strptime(fecha_str, \"%d/%m/%Y\")\n",
        "        fecha_hoy = datetime.today()\n",
        "        diferencia = fecha_ingresada - fecha_hoy\n",
        "        dias_faltantes = diferencia.days\n",
        "\n",
        "        if dias_faltantes < 0:\n",
        "            print(f\"La fecha ingresada ya pasó. Fue hace {-dias_faltantes} días.\")\n",
        "        else:\n",
        "            print(f\"Faltan {dias_faltantes} días para el {fecha_str}.\")\n",
        "\n",
        "    except ValueError:\n",
        "        print(\"El formato de la fecha debe ser DD/MM/AAAA.\")\n",
        "\n",
        "calcular_dias_faltantes()"
      ],
      "metadata": {
        "colab": {
          "base_uri": "https://localhost:8080/"
        },
        "id": "9wcYioFKmMdp",
        "outputId": "28575c81-6823-4709-fe7f-79a7d0c9d0f9"
      },
      "execution_count": 8,
      "outputs": [
        {
          "output_type": "stream",
          "name": "stdout",
          "text": [
            "Ingrese una fecha (DD/MM/AAAA): 13/12/2007\n",
            "La fecha ingresada ya pasó. Fue hace 6340 días.\n"
          ]
        }
      ]
    },
    {
      "cell_type": "code",
      "source": [
        "def agregar_estudiante(registro, nombre, calificacion):\n",
        "    registro[nombre] = calificacion\n",
        "    print(f\"Estudiante agregado: {nombre} - {calificacion}\")\n",
        "\n",
        "def actualizar_calificacion(registro, nombre, calificacion):\n",
        "    if nombre in registro:\n",
        "        registro[nombre] = calificacion\n",
        "        print(f\"Estudiante actualizado: {nombre} - {calificacion}\")\n",
        "    else:\n",
        "        print(f\"Error: El estudiante {nombre} no existe.\")\n",
        "\n",
        "def eliminar_estudiante(registro, nombre):\n",
        "    if nombre in registro:\n",
        "        del registro[nombre]\n",
        "        print(f\"Estudiante {nombre} eliminado.\")\n",
        "    else:\n",
        "        print(f\"Error: El estudiante {nombre} no existe.\")\n",
        "\n",
        "def listar_estudiantes(registro):\n",
        "    if registro:\n",
        "        print(\"Registro de estudiantes:\")\n",
        "        for nombre, calificacion in registro.items():\n",
        "            print(f\"{nombre}: {calificacion}\")\n",
        "    else:\n",
        "        print(\"No hay estudiantes registrados.\")\n",
        "\n",
        "def menu():\n",
        "    registro = {'Ana': 90, 'Luis': 78, 'Carlos': 85}\n",
        "\n",
        "    while True:\n",
        "        print(\"\\nMenú:\")\n",
        "        print(\"1. Agregar estudiante\")\n",
        "        print(\"2. Actualizar calificación\")\n",
        "        print(\"3. Eliminar estudiante\")\n",
        "        print(\"4. Listar estudiantes\")\n",
        "        print(\"5. Salir\")\n",
        "\n",
        "        try:\n",
        "            opcion = int(input(\"Opción: \"))\n",
        "\n",
        "            if opcion == 1:\n",
        "                nombre = input(\"Ingrese el nombre del estudiante: \")\n",
        "                calificacion = float(input(\"Ingrese la calificación: \"))\n",
        "                agregar_estudiante(registro, nombre, calificacion)\n",
        "\n",
        "            elif opcion == 2:\n",
        "                nombre = input(\"Ingrese el nombre del estudiante: \")\n",
        "                calificacion = float(input(\"Ingrese la nueva calificación: \"))\n",
        "                actualizar_calificacion(registro, nombre, calificacion)\n",
        "\n",
        "            elif opcion == 3:\n",
        "                nombre = input(\"Ingrese el nombre del estudiante a eliminar: \")\n",
        "                eliminar_estudiante(registro, nombre)\n",
        "\n",
        "            elif opcion == 4:\n",
        "                listar_estudiantes(registro)\n",
        "\n",
        "            elif opcion == 5:\n",
        "                print(\"Saliendo del programa.\")\n",
        "                break\n",
        "\n",
        "            else:\n",
        "                print(\"Opción no válida.\")\n",
        "\n",
        "        except ValueError:\n",
        "            print(\"Error: Debes ingresar una opción válida.\")\n",
        "\n",
        "    print(f\"Registro final: {registro}\")\n",
        "\n",
        "menu()"
      ],
      "metadata": {
        "colab": {
          "base_uri": "https://localhost:8080/"
        },
        "id": "qhVZhp0zmVXB",
        "outputId": "0c31a82a-de93-49af-a336-5d85879df765"
      },
      "execution_count": 10,
      "outputs": [
        {
          "output_type": "stream",
          "name": "stdout",
          "text": [
            "\n",
            "Menú:\n",
            "1. Agregar estudiante\n",
            "2. Actualizar calificación\n",
            "3. Eliminar estudiante\n",
            "4. Listar estudiantes\n",
            "5. Salir\n",
            "Opción: 1\n",
            "Ingrese el nombre del estudiante: sebastian\n",
            "Ingrese la calificación: 10\n",
            "Estudiante agregado: sebastian - 10.0\n",
            "\n",
            "Menú:\n",
            "1. Agregar estudiante\n",
            "2. Actualizar calificación\n",
            "3. Eliminar estudiante\n",
            "4. Listar estudiantes\n",
            "5. Salir\n",
            "Opción: 3\n",
            "Ingrese el nombre del estudiante a eliminar: sebastian\n",
            "Estudiante sebastian eliminado.\n",
            "\n",
            "Menú:\n",
            "1. Agregar estudiante\n",
            "2. Actualizar calificación\n",
            "3. Eliminar estudiante\n",
            "4. Listar estudiantes\n",
            "5. Salir\n",
            "Opción: 5\n",
            "Saliendo del programa.\n",
            "Registro final: {'Ana': 90, 'Luis': 78, 'Carlos': 85}\n"
          ]
        }
      ]
    },
    {
      "cell_type": "code",
      "source": [
        "import random\n",
        "import string\n",
        "\n",
        "def generar_contraseña():\n",
        "    try:\n",
        "        longitud = int(input(\"Ingrese la longitud deseada para la contraseña: \"))\n",
        "\n",
        "        if longitud <= 0:\n",
        "            print(\"La longitud debe ser un número entero positivo.\")\n",
        "            return\n",
        "\n",
        "        caracteres = string.ascii_letters + string.digits + string.punctuation\n",
        "        contraseña = ''.join(random.choice(caracteres) for _ in range(longitud))\n",
        "\n",
        "        print(f\"Contraseña generada: {contraseña}\")\n",
        "\n",
        "    except ValueError:\n",
        "        print(\"La longitud debe ser un número entero positivo.\")\n",
        "\n",
        "generar_contraseña()"
      ],
      "metadata": {
        "colab": {
          "base_uri": "https://localhost:8080/"
        },
        "id": "TiS_p9aImuP6",
        "outputId": "dcaacd3d-2d6a-4ceb-e4ec-fe6dcfa0ace8"
      },
      "execution_count": 11,
      "outputs": [
        {
          "output_type": "stream",
          "name": "stdout",
          "text": [
            "Ingrese la longitud deseada para la contraseña: 30\n",
            "Contraseña generada: 8'nAYKalg]vd<W:XfjrZ@9P6Cx]7S6\n"
          ]
        }
      ]
    },
    {
      "cell_type": "code",
      "source": [
        "import os\n",
        "\n",
        "def buscar_archivos():\n",
        "    try:\n",
        "        directorio = input(\"Ingrese la ruta del directorio: \")\n",
        "        subcadena = input(\"Ingrese la subcadena a buscar: \")\n",
        "\n",
        "        if not os.path.isdir(directorio):\n",
        "            print(\"El directorio no existe o no es un directorio válido.\")\n",
        "            return\n",
        "\n",
        "        archivos_encontrados = []\n",
        "        for archivo in os.listdir(directorio):\n",
        "            if os.path.isfile(os.path.join(directorio, archivo)) and subcadena in archivo:\n",
        "                archivos_encontrados.append(archivo)\n",
        "\n",
        "        if archivos_encontrados:\n",
        "            print(f\"Archivos encontrados que contienen \\\"{subcadena}\\\":\")\n",
        "            for archivo in archivos_encontrados:\n",
        "                print(archivo)\n",
        "        else:\n",
        "            print(f\"No se encontraron archivos que contengan \\\"{subcadena}\\\".\")\n",
        "\n",
        "    except PermissionError:\n",
        "        print(\"Permisos insuficientes para acceder al directorio.\")\n",
        "    except Exception as e:\n",
        "        print(f\"Error: {e}\")\n",
        "\n",
        "buscar_archivos()"
      ],
      "metadata": {
        "colab": {
          "base_uri": "https://localhost:8080/"
        },
        "id": "Hx8nsrKdm8TJ",
        "outputId": "eb836964-fcf0-437d-f939-a768374223bd"
      },
      "execution_count": 12,
      "outputs": [
        {
          "output_type": "stream",
          "name": "stdout",
          "text": [
            "Ingrese la ruta del directorio: hgghgh\n",
            "Ingrese la subcadena a buscar: hhhghg\n",
            "El directorio no existe o no es un directorio válido.\n"
          ]
        }
      ]
    }
  ]
}