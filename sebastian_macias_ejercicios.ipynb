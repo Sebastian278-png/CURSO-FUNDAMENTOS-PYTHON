{
  "nbformat": 4,
  "nbformat_minor": 0,
  "metadata": {
    "colab": {
      "provenance": []
    },
    "kernelspec": {
      "name": "python3",
      "display_name": "Python 3"
    },
    "language_info": {
      "name": "python"
    }
  },
  "cells": [
    {
      "cell_type": "code",
      "source": [
        "# 1. Calcular el índice de cosecha\n",
        "def indice_cosecha(frutos_recolectados, frutos_producidos):\n",
        "    if frutos_producidos == 0:\n",
        "        return 0  # Evitar división por cero\n",
        "    return (frutas_cogidas / frutas_generados) * 100\n",
        "\n",
        "# Ejemplo de uso para el índice de cosecha\n",
        "frutas_cogidas = float(input(\"Ingrese la cantidad de frutas cogidas: \"))\n",
        "frutas_generados = float(input(\"Ingrese la cantidad de frutas generados: \"))\n",
        "indice = indice_cosecha(frutas_cogidas, frutas_generados)\n",
        "print(f\"Índice de cosecha: {indice:.2f}%\")\n",
        "\n",
        "\n"
      ],
      "metadata": {
        "colab": {
          "base_uri": "https://localhost:8080/"
        },
        "id": "NqKQ2tBLUSXb",
        "outputId": "5bc0c63b-37b8-4648-c84c-717b705df06a"
      },
      "execution_count": 17,
      "outputs": [
        {
          "output_type": "stream",
          "name": "stdout",
          "text": [
            "Ingrese la cantidad de frutas cogidas: 20\n",
            "Ingrese la cantidad de frutas generados: 30\n",
            "Índice de cosecha: 66.67%\n"
          ]
        }
      ]
    },
    {
      "cell_type": "code",
      "source": [
        "# Se imprime una figura con caracteres ASCII\n",
        "print('\\n'.join([\n",
        "    '\"-----\"',\n",
        "    '[     ]', '[     ]', '[     ]', '[     ]', '[     ]', '[     ]', '[     ]',\n",
        "    '\"-----\"',\n",
        "    '[    ', '[    ', '[    ', '[    '\n",
        "]))\n",
        "\n"
      ],
      "metadata": {
        "colab": {
          "base_uri": "https://localhost:8080/"
        },
        "id": "a_pk-wDJdDe0",
        "outputId": "363b29ed-c64a-440d-de3c-71da990d1ffc"
      },
      "execution_count": 19,
      "outputs": [
        {
          "output_type": "stream",
          "name": "stdout",
          "text": [
            "\"-----\"\n",
            "[     ]\n",
            "[     ]\n",
            "[     ]\n",
            "[     ]\n",
            "[     ]\n",
            "[     ]\n",
            "[     ]\n",
            "\"-----\"\n",
            "[    \n",
            "[    \n",
            "[    \n",
            "[    \n"
          ]
        }
      ]
    },
    {
      "cell_type": "code",
      "source": [
        "# Variables de los parciales\n",
        "parcial1 = float(input(\"Ingrese la primera calificación parcial: \"))\n",
        "parcial2 = float(input(\"Ingrese la segunda calificación parcial: \"))\n",
        "parcial3 = float(input(\"Ingrese la tercera calificación parcial: \"))\n",
        "examen_final = float(input(\"Ingrese la calificación del examen final: \"))\n",
        "trabajo_final = float(input(\"Ingrese la ca2lificación del trabajo final: \"))\n",
        "\n",
        "# Se hacen los cálculos\n",
        "promedio_parciales = (parcial1 + parcial2 + parcial3) / 3\n",
        "calificacion_final = (promedio_parciales * 0.55) + (examen_final * 0.30) + (trabajo_final * 0.15)\n",
        "\n",
        "# Se imprime la calificación final\n",
        "print(f\"La calificación final es: {calificacion_final:.2f}\")\n"
      ],
      "metadata": {
        "colab": {
          "base_uri": "https://localhost:8080/"
        },
        "id": "Lj-uDLMndVCY",
        "outputId": "819bb4f6-fb48-4107-a0a4-69713e960ca8"
      },
      "execution_count": 20,
      "outputs": [
        {
          "output_type": "stream",
          "name": "stdout",
          "text": [
            "Ingrese la primera calificación parcial: 50\n",
            "Ingrese la segunda calificación parcial: 60\n",
            "Ingrese la tercera calificación parcial: 70\n",
            "Ingrese la calificación del examen final: 80\n",
            "Ingrese la ca2lificación del trabajo final: 90\n",
            "La calificación final es: 70.50\n"
          ]
        }
      ]
    },
    {
      "cell_type": "code",
      "source": [
        "# Código para contar palabras en Google Colab\n",
        "\n",
        "def contar_palabras(frase):\n",
        "    # Dividir la frase en palabras usando split() y contar la cantidad de elementos\n",
        "    return len(frase.split())\n",
        "\n",
        "# Solicitar una frase al usuario\n",
        "def main():\n",
        "    frase_usuario = input(\"Ingrese una frase: \")\n",
        "    # Obtener el número de palabras\n",
        "    num_palabras = contar_palabras(frase_usuario)\n",
        "    # Mostrar el resultado\n",
        "    print(f\"La frase tiene {num_palabras} palabras.\")\n",
        "\n",
        "# Ejecutar la función principal\n",
        "if __name__ == \"__main__\":\n",
        "    main()\n"
      ],
      "metadata": {
        "colab": {
          "base_uri": "https://localhost:8080/"
        },
        "id": "v0e81RmedenJ",
        "outputId": "10ed7ab6-3726-4252-beb2-0f22611216a1"
      },
      "execution_count": 21,
      "outputs": [
        {
          "output_type": "stream",
          "name": "stdout",
          "text": [
            "Ingrese una frase: hola\n",
            "La frase tiene 1 palabras.\n"
          ]
        }
      ]
    },
    {
      "cell_type": "code",
      "source": [
        "# Se solicita una frase al usuario\n",
        "frase = input(\"Escribe la frase aquí: \")\n",
        "\n",
        "# Se cuenta el número de palabras en la frase\n",
        "cantidad_palabras = len(frase.split())\n",
        "\n",
        "# Se imprime la cantidad de palabras\n",
        "print(f\"Número de palabras en la frase: {cantidad_palabras}\")\n",
        "\n",
        "# Se convierte la frase a mayúsculas y se invierte\n",
        "frase_modificada = frase.upper()[::-1]\n",
        "\n",
        "# Se muestra el resultado\n",
        "print(f\"Resultado de la frase: {frase_modificada}\")\n"
      ],
      "metadata": {
        "colab": {
          "base_uri": "https://localhost:8080/"
        },
        "id": "CnMqkSHBeHQx",
        "outputId": "4ab4d985-5739-4a72-c042-b443914247bf"
      },
      "execution_count": 22,
      "outputs": [
        {
          "output_type": "stream",
          "name": "stdout",
          "text": [
            "Escribe la frase aquí: hola python\n",
            "Número de palabras en la frase: 2\n",
            "Resultado de la frase: NOHTYP ALOH\n"
          ]
        }
      ]
    }
  ]
}